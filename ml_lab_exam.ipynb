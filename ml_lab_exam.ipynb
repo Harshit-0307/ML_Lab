{
 "cells": [
  {
   "attachments": {},
   "cell_type": "markdown",
   "metadata": {},
   "source": [
    "# ML Lab Exam\n"
   ]
  },
  {
   "cell_type": "code",
   "execution_count": 1,
   "metadata": {},
   "outputs": [],
   "source": [
    "import random\n",
    "import numpy as np\n",
    "import math\n",
    "import pandas as pd\n",
    "import matplotlib.pyplot as plt\n",
    "import math"
   ]
  },
  {
   "attachments": {},
   "cell_type": "markdown",
   "metadata": {},
   "source": [
    "Q1"
   ]
  },
  {
   "attachments": {},
   "cell_type": "markdown",
   "metadata": {},
   "source": [
    "Training Set"
   ]
  },
  {
   "cell_type": "code",
   "execution_count": 2,
   "metadata": {},
   "outputs": [],
   "source": [
    "train_x = np.random.uniform(low = 0.0, high = 1.0, size = 500)\n",
    "train_x.sort()\n",
    "e_train = np.random.normal(loc=0.0, scale=0.15, size=500)\n",
    "train_y = np.array(np.sin(5*math.pi*train_x) + e_train)"
   ]
  },
  {
   "attachments": {},
   "cell_type": "markdown",
   "metadata": {},
   "source": [
    "Testing Set"
   ]
  },
  {
   "cell_type": "code",
   "execution_count": 3,
   "metadata": {},
   "outputs": [],
   "source": [
    "test_x = np.random.uniform(low = 0.0, high = 1.0, size = 50)\n",
    "test_x.sort()\n",
    "e_test = np.random.normal(loc=0.0, scale=0.15, size=50)\n",
    "test_y = np.array(np.sin(5*math.pi*test_x) + e_test)"
   ]
  },
  {
   "attachments": {},
   "cell_type": "markdown",
   "metadata": {},
   "source": [
    "RBF KERNEL FUNCTION"
   ]
  },
  {
   "attachments": {},
   "cell_type": "markdown",
   "metadata": {},
   "source": [
    "```a) Estimate the regularized Least Squares Regression using Kernel Regression with Gradient Descent. ```"
   ]
  },
  {
   "cell_type": "code",
   "execution_count": 4,
   "metadata": {},
   "outputs": [],
   "source": [
    "def kernel_matrix(x,z,sigma):\n",
    "    A = np.zeros((len(x),len(z)))\n",
    "    for i in range(len(x)):\n",
    "        for j in range(len(z)):\n",
    "            A[i][j] = np.exp((-1)*(np.linalg.norm(x[i]-z[j])**2) / (2*(sigma**2)))\n",
    "    A = np.vstack((A,np.ones(len(z))))\n",
    "    return A.T"
   ]
  },
  {
   "cell_type": "code",
   "execution_count": 5,
   "metadata": {},
   "outputs": [],
   "source": [
    "def tuner(train_x,train_y):\n",
    "    lamb = [2**i for i in range(-7,8)]\n",
    "    sigma = [0.01,0.1,1,2,0.2]\n",
    "    alpha = 0.000001\n",
    "    record = []\n",
    "    for s in sigma:\n",
    "        A = kernel_matrix(train_x,train_x,s)\n",
    "        for l in lamb:\n",
    "            W = np.zeros(len(A[1]))\n",
    "            for i in range(20000):\n",
    "                m = l*W - np.dot(A.T,(train_y - np.dot(A,W)))\n",
    "                W = W - alpha*m\n",
    "            y_pred = A @ W\n",
    "            RMSE = (sum((train_y - y_pred)**2) / len(train_y))**0.5\n",
    "            record.append((RMSE,l,s))\n",
    "    \n",
    "    min_RMSE = 99999\n",
    "    index = 0\n",
    "    for i in range(len(record)):\n",
    "        if record[i][0] < min_RMSE:\n",
    "            min_RMSE = record[i][0]\n",
    "            index = i\n",
    "    return record[index]"
   ]
  },
  {
   "cell_type": "code",
   "execution_count": 6,
   "metadata": {},
   "outputs": [],
   "source": [
    "def find_RMSE(y,y_pred):\n",
    "    return (sum((y - y_pred)**2) / len(y))**0.5"
   ]
  },
  {
   "cell_type": "code",
   "execution_count": 7,
   "metadata": {},
   "outputs": [],
   "source": [
    "def plot_graph(test_X,test_Y,predicted_Y):\n",
    "    plt.scatter(test_X,test_Y,label = \"Test Points\")\n",
    "    x = np.linspace(0, 1, 10000)\n",
    "    y = np.sin(5*math.pi*x)\n",
    "    plt.plot(x, y,label = \"Actual Curve\")\n",
    "    plt.plot(test_X,predicted_Y, label = \"Predicted Curve\",color = 'red')\n",
    "    plt.legend()\n",
    "    plt.grid()\n",
    "    plt.show()"
   ]
  },
  {
   "cell_type": "code",
   "execution_count": 8,
   "metadata": {},
   "outputs": [],
   "source": [
    "def gradient_kernel_regression(train_x,train_y,test_x,test_y):\n",
    "    xt = train_x[:50]\n",
    "    yt = train_y[:50]\n",
    "\n",
    "    tuned_value = tuner(xt,yt)\n",
    "    best_rmse,sigma,lamb = tuned_value\n",
    "    \n",
    "    A = kernel_matrix(train_x,train_x,sigma)\n",
    "    W = np.zeros(len(A[1]))\n",
    "    for i in range(10000):\n",
    "        m = lamb*W - np.dot(A.T,(train_y - np.dot(A,W)))\n",
    "        W = W - 0.00001*m\n",
    "    test_A = kernel_matrix(train_x,test_x,sigma)\n",
    "    train_y_pred = A @ W\n",
    "    test_y_pred = test_A @ W\n",
    "    train_RMSE = find_RMSE(train_y,train_y_pred)\n",
    "    test_RMSE = find_RMSE(test_y,test_y_pred)\n",
    "\n",
    "    print(f'Train RMSE : {train_RMSE}')\n",
    "    print(f'Test RMSE : {test_RMSE}')\n",
    "    plot_graph(test_x,test_y,test_y_pred)"
   ]
  },
  {
   "cell_type": "code",
   "execution_count": 9,
   "metadata": {},
   "outputs": [
    {
     "name": "stdout",
     "output_type": "stream",
     "text": [
      "Train RMSE : 0.1456074326871933\n",
      "Test RMSE : 0.19674423745263298\n"
     ]
    },
    {
     "data": {
      "image/png": "[encoded data removed]",
      "text/plain": [
       "<Figure size 432x288 with 1 Axes>"
      ]
     },
     "metadata": {
      "needs_background": "light"
     },
     "output_type": "display_data"
    }
   ],
   "source": [
    "gradient_kernel_regression(train_x,train_y,test_x,test_y)"
   ]
  },
  {
   "attachments": {},
   "cell_type": "markdown",
   "metadata": {},
   "source": [
    "```b) Modify the training set T by randomly picking up 5 data points from the training set T and scaling their yi values by 20. Estimate the Least Squares Estimate using Gradient Descent and state your observations.```"
   ]
  },
  {
   "cell_type": "code",
   "execution_count": 10,
   "metadata": {},
   "outputs": [],
   "source": [
    "random_index = np.random.randint(0,500,5)\n",
    "new_train_y = train_y\n",
    "new_train_y[random_index] *= 20"
   ]
  },
  {
   "cell_type": "code",
   "execution_count": 11,
   "metadata": {},
   "outputs": [
    {
     "name": "stdout",
     "output_type": "stream",
     "text": [
      "Train RMSE : 1.5274739376689572\n",
      "Test RMSE : 0.4105261265936689\n"
     ]
    },
    {
     "data": {
      "image/png": "[encoded data removed]",
      "text/plain": [
       "<Figure size 432x288 with 1 Axes>"
      ]
     },
     "metadata": {
      "needs_background": "light"
     },
     "output_type": "display_data"
    }
   ],
   "source": [
    "gradient_kernel_regression(train_x,new_train_y,test_x,test_y)"
   ]
  },
  {
   "attachments": {},
   "cell_type": "markdown",
   "metadata": {},
   "source": [
    "```c) Modify the optimization problem of the least squares regression model to improve the RMSE results on test data. Further, solve your modified optimization problem using Gradient Descent and calculate the percentage of improvement obtained by your model over the existing least square regression model.```"
   ]
  },
  {
   "attachments": {},
   "cell_type": "markdown",
   "metadata": {},
   "source": [
    "Q2"
   ]
  },
  {
   "attachments": {},
   "cell_type": "markdown",
   "metadata": {},
   "source": [
    "Bayesian Decision Boundary"
   ]
  },
  {
   "cell_type": "code",
   "execution_count": null,
   "metadata": {},
   "outputs": [],
   "source": [
    "import numpy as np\n",
    "import matplotlib.pyplot as plt\n",
    "\n",
    "# Set the mean and covariance matrices for the two datasets\n",
    "mu1 = np.array([-1, 1])\n",
    "mu2 = np.array([2, 2])\n",
    "sigma1 = np.array([[2, 0], [0, 2]])\n",
    "sigma2 = np.array([[2, 0], [0, 2]])\n",
    "\n",
    "# Generate dataset A and B\n",
    "np.random.seed(1)  # set random seed for reproducibility\n",
    "A = np.random.multivariate_normal(mu1, sigma1, 2000)\n",
    "B = np.random.multivariate_normal(mu2, sigma2, 2000)\n",
    "\n",
    "# Split datasets A and B into training and testing sets\n",
    "A_train, A_test = A[:1750], A[1750:]\n",
    "B_train, B_test = B[:1750], B[1750:]\n",
    "if len(A) == len(B):\n",
    "    P_w1 = 0.5\n",
    "    P_w2 = 0.5\n",
    "    \n",
    "# Compute the optimal Bayesian decision boundary\n",
    "w = mu1 - mu2\n",
    "w0 = (0.5 *(mu1 + mu2)) - ((sigma1[0][0]/ np.linalg.norm(mu1 - mu2)) * (np.log(P_w1/P_w2)) *(mu1 - mu2))\n",
    "x1 = np.linspace(-2, 2, 100)\n",
    "x2 = (w.T@w0 - w[0]*x1) / w[1]\n",
    "\n",
    "# Plot the datasets and decision boundary\n",
    "plt.scatter(A_train[:, 0], A_train[:, 1], label='A train')\n",
    "plt.scatter(B_train[:, 0], B_train[:, 1], label='B train')\n",
    "plt.plot(x1, x2, color='k', label='Bayesian decision boundary')\n",
    "plt.legend()\n",
    "plt.show()"
   ]
  },
  {
   "attachments": {},
   "cell_type": "markdown",
   "metadata": {},
   "source": [
    "Logestic Regression Model using Gradient Descent Method"
   ]
  },
  {
   "attachments": {},
   "cell_type": "markdown",
   "metadata": {},
   "source": [
    "SVM Model Gradient Descent Method"
   ]
  },
  {
   "cell_type": "code",
   "execution_count": null,
   "metadata": {},
   "outputs": [],
   "source": []
  }
 ],
 "metadata": {
  "kernelspec": {
   "display_name": "base",
   "language": "python",
   "name": "python3"
  },
  "language_info": {
   "codemirror_mode": {
    "name": "ipython",
    "version": 3
   },
   "file_extension": ".py",
   "mimetype": "text/x-python",
   "name": "python",
   "nbconvert_exporter": "python",
   "pygments_lexer": "ipython3",
   "version": "3.9.12"
  },
  "orig_nbformat": 4
 },
 "nbformat": 4,
 "nbformat_minor": 2
}
